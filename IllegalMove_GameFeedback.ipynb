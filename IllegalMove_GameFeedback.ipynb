{
 "cells": [
  {
   "cell_type": "markdown",
   "metadata": {},
   "source": [
    "# Illegal Move Detection and Game Feedback System"
   ]
  },
  {
   "cell_type": "code",
   "execution_count": 1,
   "metadata": {},
   "outputs": [],
   "source": [
    "# Import Required Libraries\n",
    "import pandas as pd\n",
    "import numpy as np\n",
    "import chess\n",
    "import chess.pgn\n",
    "from sklearn.model_selection import train_test_split\n",
    "from sklearn.ensemble import RandomForestClassifier\n",
    "from sklearn.metrics import accuracy_score, classification_report\n",
    "from sklearn.preprocessing import LabelEncoder\n",
    "import matplotlib.pyplot as plt\n",
    "import seaborn as sns"
   ]
  },
  {
   "cell_type": "code",
   "execution_count": 2,
   "metadata": {},
   "outputs": [
    {
     "name": "stdout",
     "output_type": "stream",
     "text": [
      "                                                 FEN  Move Result WhiteElo  \\\n",
      "0  rnbqkbnr/pppppppp/8/8/8/8/PPPPPPPP/RNBQKBNR w ...  e2e4    0-1     1833   \n",
      "1  rnbqkbnr/pppppppp/8/8/4P3/8/PPPP1PPP/RNBQKBNR ...  d7d5    0-1     1833   \n",
      "2  rnbqkbnr/ppp1pppp/8/3p4/4P3/8/PPPP1PPP/RNBQKBN...  g1f3    0-1     1833   \n",
      "3  rnbqkbnr/ppp1pppp/8/3p4/4P3/5N2/PPPP1PPP/RNBQK...  d5e4    0-1     1833   \n",
      "4  rnbqkbnr/ppp1pppp/8/8/4p3/5N2/PPPP1PPP/RNBQKB1...  f3e5    0-1     1833   \n",
      "\n",
      "  BlackElo  \n",
      "0     1823  \n",
      "1     1823  \n",
      "2     1823  \n",
      "3     1823  \n",
      "4     1823  \n"
     ]
    }
   ],
   "source": [
    "import chess.pgn\n",
    "import pandas as pd\n",
    "\n",
    "# Initialize a list to store data\n",
    "data = []\n",
    "\n",
    "# Path to your PGN file\n",
    "pgn_file = r\"C:\\Users\\la7tim\\Downloads\\lichess_db_standard_rated_2014-09.pgn\\lichess_db_standard_rated_2014-09.pgn\"\n",
    "\n",
    "# Open the PGN file\n",
    "with open(pgn_file) as pgn:\n",
    "    while True:\n",
    "        game = chess.pgn.read_game(pgn)\n",
    "        if game is None:\n",
    "            break\n",
    "\n",
    "        # Extract game metadata\n",
    "        game_result = game.headers.get(\"Result\")\n",
    "        white_elo = game.headers.get(\"WhiteElo\")\n",
    "        black_elo = game.headers.get(\"BlackElo\")\n",
    "\n",
    "        # Iterate through moves\n",
    "        board = game.board()\n",
    "        for move in game.mainline_moves():\n",
    "            # Get FEN before the move\n",
    "            fen = board.fen()\n",
    "            board.push(move)  # Apply the move\n",
    "\n",
    "            # Store FEN, move, and metadata\n",
    "            data.append({\n",
    "                \"FEN\": fen,\n",
    "                \"Move\": move.uci(),\n",
    "                \"Result\": game_result,\n",
    "                \"WhiteElo\": white_elo,\n",
    "                \"BlackElo\": black_elo\n",
    "            })\n",
    "\n",
    "# Create a DataFrame\n",
    "df = pd.DataFrame(data)\n",
    "print(df.head())\n",
    "\n",
    "# Save to CSV\n",
    "df.to_csv(\"chess_dataset.csv\", index=False)\n"
   ]
  },
  {
   "cell_type": "code",
   "execution_count": null,
   "metadata": {},
   "outputs": [],
   "source": [
    "# Step 2: Preprocessing\n",
    "# Encode categorical variables (e.g., moves)\n",
    "label_encoder = LabelEncoder()\n",
    "df['Move_encoded'] = label_encoder.fit_transform(df['Move'])\n",
    "\n",
    "# Select features and target\n",
    "X = df[['Move_encoded', 'WhiteElo', 'BlackElo']]\n",
    "y = df['Result']  # Target column"
   ]
  },
  {
   "cell_type": "code",
   "execution_count": null,
   "metadata": {},
   "outputs": [],
   "source": [
    "# Step 3: Train-Test Split\n",
    "X_train, X_test, y_train, y_test = train_test_split(X, y, test_size=0.2, random_state=42)\n",
    "print(\"Training and Testing Sets Prepared\")"
   ]
  },
  {
   "cell_type": "code",
   "execution_count": null,
   "metadata": {},
   "outputs": [],
   "source": [
    "# Step 4: Model Training\n",
    "model = RandomForestClassifier(n_estimators=100, random_state=42)\n",
    "model.fit(X_train, y_train)\n",
    "print(\"Model Training Completed\")"
   ]
  },
  {
   "cell_type": "code",
   "execution_count": null,
   "metadata": {},
   "outputs": [],
   "source": [
    "# Step 5: Evaluation\n",
    "y_pred = model.predict(X_test)\n",
    "print(f\"Accuracy: {accuracy_score(y_test, y_pred):.2f}\")\n",
    "print(\"Classification Report:\")\n",
    "print(classification_report(y_test, y_pred))"
   ]
  },
  {
   "cell_type": "code",
   "execution_count": null,
   "metadata": {},
   "outputs": [],
   "source": [
    "# Step 6: Feature Importance\n",
    "importances = model.feature_importances_\n",
    "features = X.columns\n",
    "plt.figure(figsize=(8, 6))\n",
    "sns.barplot(x=importances, y=features)\n",
    "plt.title(\"Feature Importance\")\n",
    "plt.show()"
   ]
  },
  {
   "cell_type": "code",
   "execution_count": null,
   "metadata": {},
   "outputs": [],
   "source": [
    "# Step 7: Illegal Move Detection\n",
    "# Function to validate moves using python-chess\n",
    "def detect_illegal_moves(fen, move):\n",
    "    board = chess.Board(fen)\n",
    "    try:\n",
    "        board.push_uci(move)\n",
    "        return \"Legal\"\n",
    "    except ValueError:\n",
    "        return \"Illegal\"\n",
    "\n",
    "# Apply detection on a sample of the dataset\n",
    "data['Move_Legality'] = data.apply(lambda row: detect_illegal_moves(row['FEN'], row['Move']), axis=1)\n",
    "print(\"Illegal Move Detection Completed\")\n",
    "print(data[['FEN', 'Move', 'Move_Legality']].head())"
   ]
  },
  {
   "cell_type": "code",
   "execution_count": null,
   "metadata": {},
   "outputs": [],
   "source": [
    "# Step 8: Game Feedback System\n",
    "# Analyze move sequences and provide insights\n",
    "def generate_feedback(fen, move):\n",
    "    board = chess.Board(fen)\n",
    "    if detect_illegal_moves(fen, move) == \"Illegal\":\n",
    "        return \"This move is illegal! Please check the rules.\"\n",
    "    else:\n",
    "        return \"This move is valid. Keep up the good strategy!\"\n",
    "\n",
    "# Apply feedback generation to the dataset\n",
    "data['Feedback'] = data.apply(lambda row: generate_feedback(row['FEN'], row['Move']), axis=1)\n",
    "print(\"Game Feedback Generated\")\n",
    "print(data[['FEN', 'Move', 'Feedback']].head())"
   ]
  },
  {
   "cell_type": "code",
   "execution_count": null,
   "metadata": {},
   "outputs": [],
   "source": [
    "# Step 9: Save Processed Data\n",
    "data.to_csv('processed_chess_data.csv', index=False)\n",
    "print(\"Processed Data Saved\")"
   ]
  }
 ],
 "metadata": {
  "kernelspec": {
   "display_name": "Python 3",
   "language": "python",
   "name": "python3"
  },
  "language_info": {
   "codemirror_mode": {
    "name": "ipython",
    "version": 3
   },
   "file_extension": ".py",
   "mimetype": "text/x-python",
   "name": "python",
   "nbconvert_exporter": "python",
   "pygments_lexer": "ipython3",
   "version": "3.11.4"
  }
 },
 "nbformat": 4,
 "nbformat_minor": 2
}
