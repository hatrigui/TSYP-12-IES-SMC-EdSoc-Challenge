{
  "metadata": {
    "kernelspec": {
      "language": "python",
      "display_name": "Python 3",
      "name": "python3"
    },
    "language_info": {
      "name": "python",
      "version": "3.10.14",
      "mimetype": "text/x-python",
      "codemirror_mode": {
        "name": "ipython",
        "version": 3
      },
      "pygments_lexer": "ipython3",
      "nbconvert_exporter": "python",
      "file_extension": ".py"
    },
    "kaggle": {
      "accelerator": "none",
      "dataSources": [
        {
          "sourceId": 8075830,
          "sourceType": "datasetVersion",
          "datasetId": 4765342
        }
      ],
      "dockerImageVersionId": 30786,
      "isInternetEnabled": true,
      "language": "python",
      "sourceType": "notebook",
      "isGpuEnabled": false
    },
    "colab": {
      "name": "chess openings",
      "provenance": []
    }
  },
  "nbformat_minor": 0,
  "nbformat": 4,
  "cells": [
    {
      "source": [
        "import kagglehub\n",
        "alexandrelemercier_all_chess_openings_path = kagglehub.dataset_download('alexandrelemercier/all-chess-openings')\n",
        "\n",
        "print('Data source import complete.')\n"
      ],
      "metadata": {
        "id": "t9x9Ril5ePrI"
      },
      "cell_type": "code",
      "outputs": [],
      "execution_count": null
    },
    {
      "cell_type": "code",
      "source": [],
      "metadata": {
        "_uuid": "8f2839f25d086af736a60e9eeb907d3b93b6e0e5",
        "_cell_guid": "b1076dfc-b9ad-4769-8c92-a6c4dae69d19",
        "trusted": true,
        "id": "zQ21Z_FHePrL"
      },
      "outputs": [],
      "execution_count": null
    },
    {
      "cell_type": "code",
      "source": [
        "pip install chess"
      ],
      "metadata": {
        "trusted": true,
        "execution": {
          "iopub.status.busy": "2024-11-15T22:00:14.963296Z",
          "iopub.execute_input": "2024-11-15T22:00:14.963854Z",
          "iopub.status.idle": "2024-11-15T22:00:31.839004Z",
          "shell.execute_reply.started": "2024-11-15T22:00:14.96379Z",
          "shell.execute_reply": "2024-11-15T22:00:31.83762Z"
        },
        "id": "efBxl_DaePrM",
        "outputId": "3d96094f-71b8-4b08-ea18-d53041ad6157"
      },
      "outputs": [
        {
          "name": "stdout",
          "text": "Collecting chess\n  Downloading chess-1.11.1.tar.gz (156 kB)\n\u001b[2K     \u001b[90m━━━━━━━━━━━━━━━━━━━━━━━━━━━━━━━━━━━━━━━\u001b[0m \u001b[32m156.5/156.5 kB\u001b[0m \u001b[31m2.6 MB/s\u001b[0m eta \u001b[36m0:00:00\u001b[0ma \u001b[36m0:00:01\u001b[0m\n\u001b[?25h  Preparing metadata (setup.py) ... \u001b[?25ldone\n\u001b[?25hBuilding wheels for collected packages: chess\n  Building wheel for chess (setup.py) ... \u001b[?25ldone\n\u001b[?25h  Created wheel for chess: filename=chess-1.11.1-py3-none-any.whl size=148498 sha256=99c08dd7246ee45563d27b7d870621581a68938d8298c279aba3a03e8011a0ca\n  Stored in directory: /root/.cache/pip/wheels/2e/2d/23/1bfc95db984ed3ecbf6764167dc7526d0ab521cf9a9852544e\nSuccessfully built chess\nInstalling collected packages: chess\nSuccessfully installed chess-1.11.1\nNote: you may need to restart the kernel to use updated packages.\n",
          "output_type": "stream"
        }
      ],
      "execution_count": null
    },
    {
      "cell_type": "code",
      "source": [
        "import pandas as pd\n",
        "df=pd.read_csv(\"/kaggle/input/all-chess-openings/openings_fen7.csv\")"
      ],
      "metadata": {
        "trusted": true,
        "execution": {
          "iopub.status.busy": "2024-11-15T22:00:44.287483Z",
          "iopub.execute_input": "2024-11-15T22:00:44.287982Z",
          "iopub.status.idle": "2024-11-15T22:00:44.734387Z",
          "shell.execute_reply.started": "2024-11-15T22:00:44.287935Z",
          "shell.execute_reply": "2024-11-15T22:00:44.733167Z"
        },
        "id": "fEdGpD7oePrO"
      },
      "outputs": [],
      "execution_count": null
    },
    {
      "cell_type": "code",
      "source": [
        "df"
      ],
      "metadata": {
        "trusted": true,
        "execution": {
          "iopub.status.busy": "2024-11-15T22:12:35.337559Z",
          "iopub.execute_input": "2024-11-15T22:12:35.338004Z",
          "iopub.status.idle": "2024-11-15T22:12:35.351843Z",
          "shell.execute_reply.started": "2024-11-15T22:12:35.337963Z",
          "shell.execute_reply": "2024-11-15T22:12:35.350722Z"
        },
        "id": "RxrtZ7ijePrO",
        "outputId": "87637aae-763b-48c4-9473-5a1ec3625bb1"
      },
      "outputs": [
        {
          "execution_count": 9,
          "output_type": "execute_result",
          "data": {
            "text/plain": "                                                    fen best_move  \\\n0     rnbqkbnr/pppppppp/8/8/8/8/PPPPPPPP/RNBQKBNR w ...      e2e4   \n1     rnbqkbnr/pppp1ppp/8/4p3/4P3/8/PPPP1PPP/RNBQKBN...      g1f3   \n2     rnbqkbnr/pppp1ppp/8/4p3/4P3/5N2/PPPP1PPP/RNBQK...      b8c6   \n3     r1bqkbnr/pppp1ppp/2n5/4p3/4P3/5N2/PPPP1PPP/RNB...      f1c4   \n4     r1bqkbnr/pppp1ppp/2n5/4p3/2B1P3/5N2/PPPP1PPP/R...      g8f6   \n...                                                 ...       ...   \n2333  rn1qkbnr/pp2pppp/2p5/3P4/Q2P4/8/PP2PPPP/RbB1KB...      d5c6   \n2334  rn1qkbnr/pp2pppp/2P5/8/Q2P4/8/PP2PPPP/RbB1KBNR...      b8c6   \n2335  rnbqkb1r/ppp1pppp/5n2/3p4/2P5/5N2/PP1PPPPP/RNB...      c4d5   \n2336  rnbqkb1r/ppp1pppp/5n2/3P4/8/5N2/PP1PPPPP/RNBQK...      f6d5   \n2337  rnbqkbnr/1pp1pppp/p7/8/2pP4/4PN2/PP3PPP/RNBQKB...      b7b5   \n\n      winning_percentage  \n0                   77.6  \n1                   77.6  \n2                   77.6  \n3                   77.6  \n4                   77.6  \n...                  ...  \n2333                 9.2  \n2334                 9.2  \n2335                 7.9  \n2336                 7.9  \n2337                 7.5  \n\n[2338 rows x 3 columns]",
            "text/html": "<div>\n<style scoped>\n    .dataframe tbody tr th:only-of-type {\n        vertical-align: middle;\n    }\n\n    .dataframe tbody tr th {\n        vertical-align: top;\n    }\n\n    .dataframe thead th {\n        text-align: right;\n    }\n</style>\n<table border=\"1\" class=\"dataframe\">\n  <thead>\n    <tr style=\"text-align: right;\">\n      <th></th>\n      <th>fen</th>\n      <th>best_move</th>\n      <th>winning_percentage</th>\n    </tr>\n  </thead>\n  <tbody>\n    <tr>\n      <th>0</th>\n      <td>rnbqkbnr/pppppppp/8/8/8/8/PPPPPPPP/RNBQKBNR w ...</td>\n      <td>e2e4</td>\n      <td>77.6</td>\n    </tr>\n    <tr>\n      <th>1</th>\n      <td>rnbqkbnr/pppp1ppp/8/4p3/4P3/8/PPPP1PPP/RNBQKBN...</td>\n      <td>g1f3</td>\n      <td>77.6</td>\n    </tr>\n    <tr>\n      <th>2</th>\n      <td>rnbqkbnr/pppp1ppp/8/4p3/4P3/5N2/PPPP1PPP/RNBQK...</td>\n      <td>b8c6</td>\n      <td>77.6</td>\n    </tr>\n    <tr>\n      <th>3</th>\n      <td>r1bqkbnr/pppp1ppp/2n5/4p3/4P3/5N2/PPPP1PPP/RNB...</td>\n      <td>f1c4</td>\n      <td>77.6</td>\n    </tr>\n    <tr>\n      <th>4</th>\n      <td>r1bqkbnr/pppp1ppp/2n5/4p3/2B1P3/5N2/PPPP1PPP/R...</td>\n      <td>g8f6</td>\n      <td>77.6</td>\n    </tr>\n    <tr>\n      <th>...</th>\n      <td>...</td>\n      <td>...</td>\n      <td>...</td>\n    </tr>\n    <tr>\n      <th>2333</th>\n      <td>rn1qkbnr/pp2pppp/2p5/3P4/Q2P4/8/PP2PPPP/RbB1KB...</td>\n      <td>d5c6</td>\n      <td>9.2</td>\n    </tr>\n    <tr>\n      <th>2334</th>\n      <td>rn1qkbnr/pp2pppp/2P5/8/Q2P4/8/PP2PPPP/RbB1KBNR...</td>\n      <td>b8c6</td>\n      <td>9.2</td>\n    </tr>\n    <tr>\n      <th>2335</th>\n      <td>rnbqkb1r/ppp1pppp/5n2/3p4/2P5/5N2/PP1PPPPP/RNB...</td>\n      <td>c4d5</td>\n      <td>7.9</td>\n    </tr>\n    <tr>\n      <th>2336</th>\n      <td>rnbqkb1r/ppp1pppp/5n2/3P4/8/5N2/PP1PPPPP/RNBQK...</td>\n      <td>f6d5</td>\n      <td>7.9</td>\n    </tr>\n    <tr>\n      <th>2337</th>\n      <td>rnbqkbnr/1pp1pppp/p7/8/2pP4/4PN2/PP3PPP/RNBQKB...</td>\n      <td>b7b5</td>\n      <td>7.5</td>\n    </tr>\n  </tbody>\n</table>\n<p>2338 rows × 3 columns</p>\n</div>"
          },
          "metadata": {}
        }
      ],
      "execution_count": null
    },
    {
      "cell_type": "code",
      "source": [
        "import pandas as pd\n",
        "import chess\n",
        "\n",
        "class BeginnerChessAI:\n",
        "    def __init__(self, dataset_path):\n",
        "        self.openings = self.load_openings(dataset_path)\n",
        "\n",
        "    def load_openings(self, dataset_path):\n",
        "        df = pd.read_csv(dataset_path)\n",
        "        return df.to_dict('records')\n",
        "\n",
        "    def recommend_openings(self, top_n=5):\n",
        "        sorted_openings = sorted(self.openings, key=lambda x: x['winning_percentage'], reverse=True)\n",
        "        return sorted_openings[:top_n]\n",
        "\n",
        "    def explain_opening(self, opening):\n",
        "        return (f\"Board Position (FEN): {opening['fen']}\\n\"\n",
        "                f\"Recommended Move: {opening['best_move']}\\n\"\n",
        "                f\"Winning Percentage: {opening['winning_percentage']}%\")\n",
        "\n",
        "    def visualize_board(self, fen):\n",
        "        board = chess.Board(fen)\n",
        "        return board\n",
        "\n"
      ],
      "metadata": {
        "trusted": true,
        "execution": {
          "iopub.status.busy": "2024-11-15T22:04:34.411212Z",
          "iopub.execute_input": "2024-11-15T22:04:34.411672Z",
          "iopub.status.idle": "2024-11-15T22:04:34.500801Z",
          "shell.execute_reply.started": "2024-11-15T22:04:34.411632Z",
          "shell.execute_reply": "2024-11-15T22:04:34.499801Z"
        },
        "id": "cfgo6_REePrP"
      },
      "outputs": [],
      "execution_count": null
    },
    {
      "cell_type": "code",
      "source": [
        "\n",
        "if __name__ == \"__main__\":\n",
        "    dataset_path = \"/kaggle/input/all-chess-openings/openings_fen7.csv\"\n",
        "    chess_ai = BeginnerChessAI(dataset_path)\n",
        "\n",
        "    print(\"Recommended Openings for Beginners:\")\n",
        "    top_openings = chess_ai.recommend_openings(top_n=5)\n",
        "    for idx, opening in enumerate(top_openings, start=1):\n",
        "        print(f\"\\n{idx}.\")\n",
        "\n",
        "\n",
        "        print(chess_ai.explain_opening(opening))\n",
        "        print(\"\\nBoard Visualization:\")\n",
        "        board = chess_ai.visualize_board(opening['fen'])\n",
        "        print(board)\n"
      ],
      "metadata": {
        "trusted": true,
        "execution": {
          "iopub.status.busy": "2024-11-15T22:04:52.270887Z",
          "iopub.execute_input": "2024-11-15T22:04:52.271337Z",
          "iopub.status.idle": "2024-11-15T22:04:52.298325Z",
          "shell.execute_reply.started": "2024-11-15T22:04:52.271296Z",
          "shell.execute_reply": "2024-11-15T22:04:52.296739Z"
        },
        "id": "FUME6je4ePrP",
        "outputId": "d9e7b5c5-08ab-46a5-9e2a-1f9ef79c48c6"
      },
      "outputs": [
        {
          "name": "stdout",
          "text": "Recommended Openings for Beginners:\n\n1.\nBoard Position (FEN): rnbqkbnr/pppppppp/8/8/8/8/PPPPPPPP/RNBQKBNR w KQkq - 0 1\nRecommended Move: e2e4\nWinning Percentage: 77.6%\n\nBoard Visualization:\nr n b q k b n r\np p p p p p p p\n. . . . . . . .\n. . . . . . . .\n. . . . . . . .\n. . . . . . . .\nP P P P P P P P\nR N B Q K B N R\n\n2.\nBoard Position (FEN): rnbqkbnr/pppp1ppp/8/4p3/4P3/8/PPPP1PPP/RNBQKBNR w KQkq - 0 2\nRecommended Move: g1f3\nWinning Percentage: 77.6%\n\nBoard Visualization:\nr n b q k b n r\np p p p . p p p\n. . . . . . . .\n. . . . p . . .\n. . . . P . . .\n. . . . . . . .\nP P P P . P P P\nR N B Q K B N R\n\n3.\nBoard Position (FEN): rnbqkbnr/pppp1ppp/8/4p3/4P3/5N2/PPPP1PPP/RNBQKB1R b KQkq - 1 2\nRecommended Move: b8c6\nWinning Percentage: 77.6%\n\nBoard Visualization:\nr n b q k b n r\np p p p . p p p\n. . . . . . . .\n. . . . p . . .\n. . . . P . . .\n. . . . . N . .\nP P P P . P P P\nR N B Q K B . R\n\n4.\nBoard Position (FEN): r1bqkbnr/pppp1ppp/2n5/4p3/4P3/5N2/PPPP1PPP/RNBQKB1R w KQkq - 2 3\nRecommended Move: f1c4\nWinning Percentage: 77.6%\n\nBoard Visualization:\nr . b q k b n r\np p p p . p p p\n. . n . . . . .\n. . . . p . . .\n. . . . P . . .\n. . . . . N . .\nP P P P . P P P\nR N B Q K B . R\n\n5.\nBoard Position (FEN): r1bqkbnr/pppp1ppp/2n5/4p3/2B1P3/5N2/PPPP1PPP/RNBQK2R b KQkq - 3 3\nRecommended Move: g8f6\nWinning Percentage: 77.6%\n\nBoard Visualization:\nr . b q k b n r\np p p p . p p p\n. . n . . . . .\n. . . . p . . .\n. . B . P . . .\n. . . . . N . .\nP P P P . P P P\nR N B Q K . . R\n",
          "output_type": "stream"
        }
      ],
      "execution_count": null
    },
    {
      "cell_type": "code",
      "source": [],
      "metadata": {
        "trusted": true,
        "id": "V30XV4Z2ePrQ"
      },
      "outputs": [],
      "execution_count": null
    }
  ]
}